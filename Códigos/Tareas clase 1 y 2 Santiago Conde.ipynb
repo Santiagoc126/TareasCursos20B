{
  "nbformat": 4,
  "nbformat_minor": 0,
  "metadata": {
    "colab": {
      "provenance": [],
      "authorship_tag": "ABX9TyNIfyKksDTivAbX8KH4MWK5",
      "include_colab_link": true
    },
    "kernelspec": {
      "name": "python3",
      "display_name": "Python 3"
    },
    "language_info": {
      "name": "python"
    }
  },
  "cells": [
    {
      "cell_type": "markdown",
      "metadata": {
        "id": "view-in-github",
        "colab_type": "text"
      },
      "source": [
        "<a href=\"https://colab.research.google.com/github/Santiagoc126/TareasCursos20B/blob/main/Tarea_1.ipynb\" target=\"_parent\"><img src=\"https://colab.research.google.com/assets/colab-badge.svg\" alt=\"Open In Colab\"/></a>"
      ]
    },
    {
      "cell_type": "markdown",
      "source": [
        "Ejercicio 3 sección 1.1.6"
      ],
      "metadata": {
        "id": "I4cxKBPvcO0N"
      }
    },
    {
      "cell_type": "code",
      "source": [
        "import sympy\n",
        "from sympy import *\n",
        "#Escalares\n",
        "t,s= symbols(\" t s\")\n",
        "\n",
        "#Vectores posición de los vértices del triángulo\n",
        "ax, ay, az = symbols(\"a_x a_y a_z\")\n",
        "bx, by, bz = symbols(\"b_x b_y b_z\")\n",
        "cx, cy, cz = symbols(\"c_x c_y c_z\")\n",
        "\n",
        "a = Matrix([ax, ay, az])\n",
        "b = Matrix([bx, by, bz])\n",
        "c = Matrix([cx, cy, cz])\n",
        "\n",
        "#Puntos medios de lados BC y AC\n",
        "M= (b+c)/2\n",
        "N= (a+c)/2\n",
        "\n",
        "#Rectas de las medianas correspondientes a cada lado mencionado anteriormente\n",
        "G1= a + t*(M-a)\n",
        "G2= b + s*(N-b)\n",
        "\n",
        "#Igualar ambas ecuaciones y resolver para t, s con el fin de hallar la coordenada de la intersección de las medianas, es decir, el centroide\n",
        "#Solo se tienen en cuenta dos medianas porque el punto de intersección de estas será necesariamente el de la tercera\n",
        "eqs= list(G1 - G2)\n",
        "sol = solve(eqs, (t, s), dict=True)\n",
        "print(\"Soluciones para t y s:\", sol)\n",
        "\n",
        "#Tomando la primera y única solution y reemplazando en la ecucaión de la mediana\n",
        "substitutions = [(symbol, value) for solution_dict in sol for symbol, value in solution_dict.items()]\n",
        "G = simplify(G1.subs(substitutions))\n",
        "print(\"El centroide es:\", G)"
      ],
      "metadata": {
        "colab": {
          "base_uri": "https://localhost:8080/"
        },
        "id": "uvl0ZB3UcbFE",
        "outputId": "83fa14b2-c9fb-4068-efa6-71914b5d9ef5"
      },
      "execution_count": null,
      "outputs": [
        {
          "output_type": "stream",
          "name": "stdout",
          "text": [
            "Soluciones para t y s: [{s: 2/3, t: 2/3}]\n",
            "El centroide es: Matrix([[a_x/3 + b_x/3 + c_x/3], [a_y/3 + b_y/3 + c_y/3], [a_z/3 + b_z/3 + c_z/3]])\n"
          ]
        }
      ]
    },
    {
      "cell_type": "markdown",
      "source": [
        "Ejercicio 6 sección  1.2.7\n"
      ],
      "metadata": {
        "id": "11PdF7LEKkaR"
      }
    },
    {
      "cell_type": "code",
      "execution_count": null,
      "metadata": {
        "colab": {
          "base_uri": "https://localhost:8080/"
        },
        "id": "ONBUw7hsKgym",
        "outputId": "b2d30e6a-ee6f-486f-8598-2db573e69bf5"
      },
      "outputs": [
        {
          "output_type": "stream",
          "name": "stdout",
          "text": [
            "Matrix([[14], [14], [14]])\n",
            "Matrix([[-4], [0], [4]])\n",
            "Matrix([[-6], [-6], [-6]])\n",
            "Matrix([[6], [6], [6]])\n",
            "74.498640433063\n",
            "57.688466762576155\n",
            "36.699225200489884\n",
            "62.88085722661892\n",
            "55.26351871874205\n",
            "46.861562380328934\n",
            "36.699225200489884\n",
            "57.688466762576155\n",
            "74.498640433063\n",
            "46.861562380328934\n",
            "55.26351871874205\n",
            "62.88085722661892\n",
            "sqrt(14)\n",
            "sqrt(77)\n",
            "sqrt(14)\n",
            "sqrt(77)\n",
            "12.93315449189912\n",
            "12.93315449189912\n",
            "Matrix([[128/77], [160/77], [192/77]])\n",
            "Los vectores a,b,c,d son coplanares\n",
            "139\n",
            "Matrix([[-3], [6], [-3]])\n",
            "Matrix([[-7], [14], [-7]])\n",
            "Matrix([[3], [-6], [3]])\n",
            "90.0\n",
            "90.0\n",
            "90.0\n",
            "0\n"
          ]
        }
      ],
      "source": [
        "import sympy\n",
        "from sympy import *\n",
        "from math import degrees\n",
        "\n",
        "#Vectores\n",
        "a= Matrix([1,2,3])\n",
        "b= Matrix([4,5,6])\n",
        "c= Matrix([3,2,1])\n",
        "d= Matrix([6,5,4])\n",
        "e1= Matrix([1,0,0])\n",
        "e2= Matrix([0,1,0])\n",
        "e3= Matrix([0,0,1])\n",
        "\n",
        "#Funciones\n",
        "def sumas(a,b,c,d):\n",
        "  return a+b+c+d\n",
        "def magnitud(a):\n",
        "  return sqrt(a.dot(a))\n",
        "def angulos(a,b):\n",
        "  return acos(a.dot(b)/(magnitud(a)*magnitud(b)))\n",
        "def proyeccion(a,b):\n",
        "  return (a.dot(b)/(magnitud(b))**2)*b\n",
        "def producto_mixto(a,b,c):\n",
        "  return a.dot(b.cross(c))\n",
        "def coplanares(a,b,c,d):\n",
        "  e= b-a\n",
        "  f= c-a\n",
        "  g= d-a\n",
        "  if producto_mixto(e,f,g) == 0:\n",
        "    return \"Los vectores a,b,c,d son coplanares\"\n",
        "  else:\n",
        "    return \"Los vectores a,b,c,d no son coplanares\"\n",
        "\n",
        "# Ejercicio a\n",
        "print(sumas(a, b, c, d))\n",
        "print(sumas(a, b, -c, -d))\n",
        "print(sumas(a, -b, c, -d))\n",
        "print(sumas(-a, b, -c, d))\n",
        "\n",
        "#Ejercicio b\n",
        "print(degrees(angulos(a,e1)))\n",
        "print(degrees(angulos(a,e2)))\n",
        "print(degrees(angulos(a,e3)))\n",
        "print(degrees(angulos(b,e1)))\n",
        "print(degrees(angulos(b,e2)))\n",
        "print(degrees(angulos(b,e3)))\n",
        "print(degrees(angulos(c,e1)))\n",
        "print(degrees(angulos(c,e2)))\n",
        "print(degrees(angulos(c,e3)))\n",
        "print(degrees(angulos(d,e1)))\n",
        "print(degrees(angulos(d,e2)))\n",
        "print(degrees(angulos(d,e3)))\n",
        "\n",
        "#Ejercicio c\n",
        "print(magnitud(a))\n",
        "print(magnitud(b))\n",
        "print(magnitud(c))\n",
        "print(magnitud(d))\n",
        "\n",
        "#Ejercicio d\n",
        "print(degrees(angulos(a,b)))\n",
        "print(degrees(angulos(c,d)))\n",
        "\n",
        "#Ejercicio e\n",
        "print(proyeccion(a,b))\n",
        "\n",
        "#Ejercicio f\n",
        "print(coplanares(a,b,c,d))\n",
        "\n",
        "#Ejercicio g\n",
        "print((a+b).dot(d+c))\n",
        "\n",
        "#Ejercicio h\n",
        "e= a.cross(b)\n",
        "f= b.cross(c)\n",
        "g= c.cross(d)\n",
        "print(e)\n",
        "print(f)\n",
        "print(g)\n",
        "print(degrees(angulos(e,d)))\n",
        "print(degrees(angulos(f,d)))\n",
        "print(degrees(angulos(g,d)))\n",
        "\n",
        "#Ejercicio i\n",
        "print(producto_mixto(c,a,b))"
      ]
    },
    {
      "cell_type": "markdown",
      "source": [
        "Ejercicio 13 sección 1.5.7"
      ],
      "metadata": {
        "id": "avzhhchOxnrt"
      }
    },
    {
      "cell_type": "code",
      "source": [
        "import sympy\n",
        "from sympy import *\n",
        "from sympy.vector import *\n",
        "R= CoordSys3D(\"R\")\n",
        "\n",
        "x, y= symbols( \"x y\")\n",
        "F= (-y/(x**2+y**2))*R.i + (x/(x**2+y**2))*R.j\n",
        "\n",
        "#Al ser una trayectoria circular de radio 1, se parametriza usando coordenadas polares\n",
        "t= symbols(\"t\")\n",
        "x_polar= cos(t)\n",
        "y_polar= sin(t)\n",
        "r= x_polar*R.i + y_polar*R.j\n",
        "dr= r.diff(t)\n",
        "F_polar = simplify(F.subs({x: x_polar, y:y_polar}))\n",
        "integrando= simplify(F_polar.dot(dr))\n",
        "\n",
        "#Ejercicio a\n",
        "trabajo= simplify(integrate(integrando, (t,0,pi)))\n",
        "print(\"El trabajo relaziado es:\", -trabajo)\n",
        "\n",
        "#Ejercicio b\n",
        "trabajo2= simplify(integrate(integrando, (t,0,-pi)))\n",
        "print(\"El trabajo realizado es:\", -trabajo2)"
      ],
      "metadata": {
        "colab": {
          "base_uri": "https://localhost:8080/"
        },
        "id": "I85WjJx5YS1S",
        "outputId": "b4895965-b4f3-4b8f-bca1-a4986df0639f"
      },
      "execution_count": 1,
      "outputs": [
        {
          "output_type": "stream",
          "name": "stdout",
          "text": [
            "El trabajo relaziado es: -pi\n",
            "El trabajo realizado es: pi\n"
          ]
        }
      ]
    },
    {
      "cell_type": "code",
      "source": [],
      "metadata": {
        "id": "eTKXUWmP_Zqo"
      },
      "execution_count": null,
      "outputs": []
    }
  ]
}
