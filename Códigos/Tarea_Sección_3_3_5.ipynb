{
  "nbformat": 4,
  "nbformat_minor": 0,
  "metadata": {
    "colab": {
      "provenance": [],
      "authorship_tag": "ABX9TyMwDp5sqBQqVZbftzc6HLcZ",
      "include_colab_link": true
    },
    "kernelspec": {
      "name": "python3",
      "display_name": "Python 3"
    },
    "language_info": {
      "name": "python"
    }
  },
  "cells": [
    {
      "cell_type": "markdown",
      "metadata": {
        "id": "view-in-github",
        "colab_type": "text"
      },
      "source": [
        "<a href=\"https://colab.research.google.com/github/Santiagoc126/TareasCursos20B/blob/main/Tarea_Secci%C3%B3n_3_3_5.ipynb\" target=\"_parent\"><img src=\"https://colab.research.google.com/assets/colab-badge.svg\" alt=\"Open In Colab\"/></a>"
      ]
    },
    {
      "cell_type": "code",
      "execution_count": 35,
      "metadata": {
        "colab": {
          "base_uri": "https://localhost:8080/"
        },
        "id": "Wy5A7c6BQrEh",
        "outputId": "d58944ab-5f3d-45d7-8b8f-12ed25e2ace4"
      },
      "outputs": [
        {
          "output_type": "stream",
          "name": "stdout",
          "text": [
            "Matrix([[a0*b0], [a0*b1], [a0*b2], [a1*b0], [a1*b1], [a1*b2], [a2*b0], [a2*b1], [a2*b2]])\n",
            "El polinomio tensor es: x**2*y + x**2 + x*y + x + 3*y + 3\n",
            "Matrix([[3], [3], [0], [1], [1], [0], [1], [1], [0]])\n",
            "Coeficientes en base Legendre:\n",
            "c_0 = 10/3\n",
            "c_1 = 1\n",
            "c_2 = 1\n",
            "Vector columna de coeficientes en la base tensorial de Legendre:\n",
            "Matrix([[(a0 + a2/3)*(b0 + b2/3)], [b1*(a0 + a2/3)], [b2*(a0 + a2/3)], [a1*(b0 + b2/3)], [a1*b1], [a1*b2], [a2*(b0 + b2/3)], [a2*b1], [a2*b2]])\n"
          ]
        }
      ],
      "source": [
        "import sympy\n",
        "from sympy import *\n",
        "import mpmath as mp\n",
        "x,y= symbols('x y')\n",
        "base_1= [x**i for i in range(3)]\n",
        "base_2= [y**i for i in range(3)]\n",
        "base_tensor= tensorproduct(base_1,base_2)\n",
        "#a) Definiendo los coeficientes\n",
        "a0,a1,a2,b0,b1,b2= symbols('a0 a1 a2 b0 b1 b2')\n",
        "# Polinomios genéricos\n",
        "p_x_g = a0 + a1*x + a2*x**2\n",
        "q_y_g = b0 + b1*y + b2*y**2\n",
        "# Producto tensorial\n",
        "producto_g = expand(p_x_g * q_y_g)\n",
        "poly_g = Poly(producto_g, x, y)\n",
        "# Construimos vector columna\n",
        "c_vector_g = Matrix([poly_g.coeff_monomial(x**i * y**j) for i in range(3) for j in range(3)])\n",
        "print(c_vector_g)\n",
        "#b) Construyendo el polinomio\n",
        "p_x= 3+x+x**2\n",
        "q_y= 1+y\n",
        "producto= expand(p_x*q_y)\n",
        "poly = Poly(producto, x, y)\n",
        "c_vector = Matrix([poly.coeff_monomial(x**i * y**j) for i in range(3) for j in range(3)])\n",
        "print(\"El polinomio tensor es:\", producto)\n",
        "print(c_vector)\n",
        "#c) Expresando en base de Legendre\n",
        "a,b=-1,1\n",
        "def producto_interno(f,g):\n",
        "    h = simplify(f*g)\n",
        "    return integrate(h, (x, a, b))\n",
        "base_legendre= []\n",
        "for v in base_1:\n",
        "  u=v\n",
        "  for o in base_legendre:\n",
        "    u -= (producto_interno(u,o)/producto_interno(o,o))*o\n",
        "  base_legendre.append(u)\n",
        "# Calcular coeficientes en base_legendre\n",
        "coeficientes = []\n",
        "for L_i in base_legendre:\n",
        "    num = producto_interno(p_x, L_i)\n",
        "    den = producto_interno(L_i, L_i)\n",
        "    c_i = num / den\n",
        "    coeficientes.append(c_i)\n",
        "print(\"Coeficientes en base Legendre:\")\n",
        "for i, c in enumerate(coeficientes):\n",
        "    print(f\"c_{i} = {c}\")\n",
        "\n",
        "#d) Calculando nuevos cij\n",
        "def producto_interno_y(f,g):\n",
        "    h = simplify(f*g)\n",
        "    return integrate(h, (y, a, b))\n",
        "base_legendre_y= []\n",
        "for v in base_2:\n",
        "  u=v\n",
        "  for o in base_legendre_y:\n",
        "    u -= (producto_interno_y(u,o)/producto_interno_y(o,o))*o\n",
        "  base_legendre_y.append(u)\n",
        "base_tensor_2= tensorproduct(base_legendre,base_legendre_y)\n",
        "coeficientes_g1 = []\n",
        "for L_i in base_legendre:\n",
        "    num = producto_interno(p_x_g, L_i)\n",
        "    den = producto_interno(L_i, L_i)\n",
        "    c_i = num / den\n",
        "    coeficientes_g1.append(c_i)\n",
        "coeficientes_g2 = []\n",
        "for L_i in base_legendre_y:\n",
        "    num = producto_interno_y(q_y_g, L_i)\n",
        "    den = producto_interno_y(L_i, L_i)\n",
        "    c_i = num / den\n",
        "    coeficientes_g2.append(c_i)\n",
        "#  Obteniendo nuevos coeficientes\n",
        "coef_tensor = Matrix([a * b for a in coeficientes_g1 for b in coeficientes_g2])\n",
        "\n",
        "# Mostrar el vector columna\n",
        "print(\"Vector columna de coeficientes en la base tensorial de Legendre:\")\n",
        "print(coef_tensor)"
      ]
    },
    {
      "cell_type": "code",
      "source": [],
      "metadata": {
        "id": "BGhmKe5vY7du"
      },
      "execution_count": null,
      "outputs": []
    }
  ]
}
